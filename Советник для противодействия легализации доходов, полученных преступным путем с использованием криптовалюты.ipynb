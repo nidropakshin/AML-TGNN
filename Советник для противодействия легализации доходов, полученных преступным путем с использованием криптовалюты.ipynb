{
 "cells": [
  {
   "cell_type": "markdown",
   "id": "79bbacd6",
   "metadata": {
    "papermill": {
     "duration": 0.008317,
     "end_time": "2024-03-27T10:32:31.154962",
     "exception": false,
     "start_time": "2024-03-27T10:32:31.146645",
     "status": "completed"
    },
    "tags": []
   },
   "source": [
    "# Советник для противодействия легализации доходов, полученных преступным путем с использованием криптовалюты"
   ]
  },
  {
   "cell_type": "markdown",
   "id": "d6999fc4",
   "metadata": {
    "papermill": {
     "duration": 0.008329,
     "end_time": "2024-03-27T10:32:31.171349",
     "exception": false,
     "start_time": "2024-03-27T10:32:31.163020",
     "status": "completed"
    },
    "tags": []
   },
   "source": [
    "В этом ноутбуке представлено наше решение задачи об обнаружении нелегальных криптовалютных транзакций"
   ]
  },
  {
   "cell_type": "markdown",
   "id": "4c12a8d7",
   "metadata": {
    "papermill": {
     "duration": 0.007768,
     "end_time": "2024-03-27T10:32:31.186958",
     "exception": false,
     "start_time": "2024-03-27T10:32:31.179190",
     "status": "completed"
    },
    "tags": []
   },
   "source": [
    "# Необходимые библиотеки"
   ]
  },
  {
   "cell_type": "code",
   "execution_count": 1,
   "id": "d78c8bc1",
   "metadata": {
    "execution": {
     "iopub.execute_input": "2024-03-27T10:32:31.204737Z",
     "iopub.status.busy": "2024-03-27T10:32:31.203936Z",
     "iopub.status.idle": "2024-03-27T10:33:01.002984Z",
     "shell.execute_reply": "2024-03-27T10:33:01.001991Z"
    },
    "papermill": {
     "duration": 29.810824,
     "end_time": "2024-03-27T10:33:01.005636",
     "exception": false,
     "start_time": "2024-03-27T10:32:31.194812",
     "status": "completed"
    },
    "tags": []
   },
   "outputs": [
    {
     "name": "stdout",
     "output_type": "stream",
     "text": [
      "Collecting torch-geometric\r\n",
      "  Downloading torch_geometric-2.5.2-py3-none-any.whl.metadata (64 kB)\r\n",
      "\u001b[2K     \u001b[90m━━━━━━━━━━━━━━━━━━━━━━━━━━━━━━━━━━━━━━━\u001b[0m \u001b[32m64.2/64.2 kB\u001b[0m \u001b[31m682.8 kB/s\u001b[0m eta \u001b[36m0:00:00\u001b[0m\r\n",
      "\u001b[?25hRequirement already satisfied: tqdm in /opt/conda/lib/python3.10/site-packages (from torch-geometric) (4.66.1)\r\n",
      "Requirement already satisfied: numpy in /opt/conda/lib/python3.10/site-packages (from torch-geometric) (1.26.4)\r\n",
      "Requirement already satisfied: scipy in /opt/conda/lib/python3.10/site-packages (from torch-geometric) (1.11.4)\r\n",
      "Requirement already satisfied: fsspec in /opt/conda/lib/python3.10/site-packages (from torch-geometric) (2024.2.0)\r\n",
      "Requirement already satisfied: jinja2 in /opt/conda/lib/python3.10/site-packages (from torch-geometric) (3.1.2)\r\n",
      "Requirement already satisfied: aiohttp in /opt/conda/lib/python3.10/site-packages (from torch-geometric) (3.9.1)\r\n",
      "Requirement already satisfied: requests in /opt/conda/lib/python3.10/site-packages (from torch-geometric) (2.31.0)\r\n",
      "Requirement already satisfied: pyparsing in /opt/conda/lib/python3.10/site-packages (from torch-geometric) (3.1.1)\r\n",
      "Requirement already satisfied: scikit-learn in /opt/conda/lib/python3.10/site-packages (from torch-geometric) (1.2.2)\r\n",
      "Requirement already satisfied: psutil>=5.8.0 in /opt/conda/lib/python3.10/site-packages (from torch-geometric) (5.9.3)\r\n",
      "Requirement already satisfied: attrs>=17.3.0 in /opt/conda/lib/python3.10/site-packages (from aiohttp->torch-geometric) (23.2.0)\r\n",
      "Requirement already satisfied: multidict<7.0,>=4.5 in /opt/conda/lib/python3.10/site-packages (from aiohttp->torch-geometric) (6.0.4)\r\n",
      "Requirement already satisfied: yarl<2.0,>=1.0 in /opt/conda/lib/python3.10/site-packages (from aiohttp->torch-geometric) (1.9.3)\r\n",
      "Requirement already satisfied: frozenlist>=1.1.1 in /opt/conda/lib/python3.10/site-packages (from aiohttp->torch-geometric) (1.4.1)\r\n",
      "Requirement already satisfied: aiosignal>=1.1.2 in /opt/conda/lib/python3.10/site-packages (from aiohttp->torch-geometric) (1.3.1)\r\n",
      "Requirement already satisfied: async-timeout<5.0,>=4.0 in /opt/conda/lib/python3.10/site-packages (from aiohttp->torch-geometric) (4.0.3)\r\n",
      "Requirement already satisfied: MarkupSafe>=2.0 in /opt/conda/lib/python3.10/site-packages (from jinja2->torch-geometric) (2.1.3)\r\n",
      "Requirement already satisfied: charset-normalizer<4,>=2 in /opt/conda/lib/python3.10/site-packages (from requests->torch-geometric) (3.3.2)\r\n",
      "Requirement already satisfied: idna<4,>=2.5 in /opt/conda/lib/python3.10/site-packages (from requests->torch-geometric) (3.6)\r\n",
      "Requirement already satisfied: urllib3<3,>=1.21.1 in /opt/conda/lib/python3.10/site-packages (from requests->torch-geometric) (1.26.18)\r\n",
      "Requirement already satisfied: certifi>=2017.4.17 in /opt/conda/lib/python3.10/site-packages (from requests->torch-geometric) (2024.2.2)\r\n",
      "Requirement already satisfied: joblib>=1.1.1 in /opt/conda/lib/python3.10/site-packages (from scikit-learn->torch-geometric) (1.3.2)\r\n",
      "Requirement already satisfied: threadpoolctl>=2.0.0 in /opt/conda/lib/python3.10/site-packages (from scikit-learn->torch-geometric) (3.2.0)\r\n",
      "Downloading torch_geometric-2.5.2-py3-none-any.whl (1.1 MB)\r\n",
      "\u001b[2K   \u001b[90m━━━━━━━━━━━━━━━━━━━━━━━━━━━━━━━━━━━━━━━━\u001b[0m \u001b[32m1.1/1.1 MB\u001b[0m \u001b[31m7.2 MB/s\u001b[0m eta \u001b[36m0:00:00\u001b[0m\r\n",
      "\u001b[?25hInstalling collected packages: torch-geometric\r\n",
      "Successfully installed torch-geometric-2.5.2\r\n"
     ]
    }
   ],
   "source": [
    "!pip install torch-geometric\n",
    "\n",
    "import torch_geometric\n",
    "from torch_geometric.data import Data, DataLoader"
   ]
  },
  {
   "cell_type": "code",
   "execution_count": 2,
   "id": "fc985d10",
   "metadata": {
    "execution": {
     "iopub.execute_input": "2024-03-27T10:33:01.025996Z",
     "iopub.status.busy": "2024-03-27T10:33:01.025583Z",
     "iopub.status.idle": "2024-03-27T10:33:04.818063Z",
     "shell.execute_reply": "2024-03-27T10:33:04.817211Z"
    },
    "papermill": {
     "duration": 3.805313,
     "end_time": "2024-03-27T10:33:04.820633",
     "exception": false,
     "start_time": "2024-03-27T10:33:01.015320",
     "status": "completed"
    },
    "tags": []
   },
   "outputs": [],
   "source": [
    "import numpy as np\n",
    "import torch\n",
    "import pandas as pd\n",
    "import matplotlib.pyplot as plt\n",
    "\n",
    "from sklearn.metrics import confusion_matrix, classification_report\n",
    "from sklearn.model_selection import train_test_split\n",
    "\n",
    "import torch.nn.functional as F\n",
    "\n",
    "import networkx as nx\n",
    "import seaborn as sns\n",
    "\n",
    "import os"
   ]
  },
  {
   "cell_type": "markdown",
   "id": "19f528f3",
   "metadata": {
    "papermill": {
     "duration": 0.009241,
     "end_time": "2024-03-27T10:33:04.840148",
     "exception": false,
     "start_time": "2024-03-27T10:33:04.830907",
     "status": "completed"
    },
    "tags": []
   },
   "source": [
    "# Датасет "
   ]
  },
  {
   "cell_type": "markdown",
   "id": "74993fd2",
   "metadata": {
    "papermill": {
     "duration": 0.009349,
     "end_time": "2024-03-27T10:33:04.859061",
     "exception": false,
     "start_time": "2024-03-27T10:33:04.849712",
     "status": "completed"
    },
    "tags": []
   },
   "source": [
    "Elliptic - компания по анализу криптовалют, специализирующаяся на надежной защите криптовалютных экосистем от преступной деятельности. В качестве вклада в исследовательское сообщество и сообщество по борьбе с отмыванием денег Elliptic согласилась публично поделиться этим набором данных на платформе Kaggle. Насколько нам известно, это самый большой в мире набор данных о транзакциях с маркировкой, общедоступный в любой криптовалюте"
   ]
  },
  {
   "cell_type": "code",
   "execution_count": 3,
   "id": "5a1fa518",
   "metadata": {
    "execution": {
     "iopub.execute_input": "2024-03-27T10:33:04.879332Z",
     "iopub.status.busy": "2024-03-27T10:33:04.878831Z",
     "iopub.status.idle": "2024-03-27T10:33:21.546832Z",
     "shell.execute_reply": "2024-03-27T10:33:21.545946Z"
    },
    "papermill": {
     "duration": 16.681019,
     "end_time": "2024-03-27T10:33:21.549414",
     "exception": false,
     "start_time": "2024-03-27T10:33:04.868395",
     "status": "completed"
    },
    "tags": []
   },
   "outputs": [],
   "source": [
    "df_classes = pd.read_csv('/kaggle/input/elliptic-data-set/elliptic_bitcoin_dataset/elliptic_txs_classes.csv')\n",
    "df_edges = pd.read_csv('/kaggle/input/elliptic-data-set/elliptic_bitcoin_dataset/elliptic_txs_edgelist.csv')\n",
    "df_features = pd.read_csv('/kaggle/input/elliptic-data-set/elliptic_bitcoin_dataset/elliptic_txs_features.csv', header=None)"
   ]
  },
  {
   "cell_type": "markdown",
   "id": "b153ce56",
   "metadata": {
    "papermill": {
     "duration": 0.008843,
     "end_time": "2024-03-27T10:33:21.569190",
     "exception": false,
     "start_time": "2024-03-27T10:33:21.560347",
     "status": "completed"
    },
    "tags": []
   },
   "source": [
    "### Описание\n",
    "Elliptic DataSet сопоставляет биткойн-транзакции с реальными объектами, принадлежащими к законным категориям (биржи, поставщики кошельков, майнеры, законные сервисы и т.д.), и незаконным (мошенничество, вредоносное ПО, террористические организации, программы-вымогатели, схемы Понци и т.д.). Задача датасета состоит в том, чтобы классифицировать незаконные и законные узлы на графе.\n",
    "\n",
    "### Содержание\n",
    "Этот анонимизированный набор данных представляет собой граф транзакций, собранный из блокчейна Биткоина. Узел на графике представляет транзакцию, ребро можно рассматривать как поток биткоинов между одной транзакцией и другой. Каждый узел имеет 166 параметров и помечен как \"законный\", \"незаконный\" или \"неизвестный\".\n",
    "\n",
    "### Узлы и ребра\n",
    "Граф состоит из 203 769 узлов (df_classes) и 234 355 ребер (df_edges). Два процента (4545) узлов помечены как class1 (незаконные). Двадцать один процент (42 019) отнесены к class2 (законные). Остальные транзакции не классифицированы в отношении законности и незаконности.\n",
    "\n",
    "### Особенности\n",
    "Каждая транзакция в датасете имеет 166 параметров. Первые 94 параметра представляют локальную информацию о транзакции, включая временной шаг, количество входов/выходов, комиссию за транзакцию, объем вывода и агрегированные показатели, такие как среднее количество BTC, полученных (потраченных) входами/выходами, и среднее количество входящих (исходящих) транзакций, связанных с входами/выходами. Оставшиеся 72 параметра, называемые агрегированными параметрами, получаются путем сбора информации о транзакции на один шаг назад/вперед от центрального узла - предоставляя максимум, минимум, стандартное отклонение и коэффициенты корреляции соседних транзакций для той же информации (количество входов/выходов, комиссия за транзакцию и т. д.) "
   ]
  },
  {
   "cell_type": "markdown",
   "id": "9d95b981",
   "metadata": {
    "papermill": {
     "duration": 0.00876,
     "end_time": "2024-03-27T10:33:21.586900",
     "exception": false,
     "start_time": "2024-03-27T10:33:21.578140",
     "status": "completed"
    },
    "tags": []
   },
   "source": [
    "# Подготовка данных"
   ]
  },
  {
   "cell_type": "code",
   "execution_count": 4,
   "id": "03eb6930",
   "metadata": {
    "execution": {
     "iopub.execute_input": "2024-03-27T10:33:21.606609Z",
     "iopub.status.busy": "2024-03-27T10:33:21.605912Z",
     "iopub.status.idle": "2024-03-27T10:33:23.914380Z",
     "shell.execute_reply": "2024-03-27T10:33:23.913557Z"
    },
    "papermill": {
     "duration": 2.321108,
     "end_time": "2024-03-27T10:33:23.916840",
     "exception": false,
     "start_time": "2024-03-27T10:33:21.595732",
     "status": "completed"
    },
    "tags": []
   },
   "outputs": [],
   "source": [
    "df_classes['class'] = df_classes['class'].map({'unknown': 2, '1': 1, '2': 0})\n",
    "\n",
    "# объединим параметры узлов и их метки\n",
    "df_merge = df_features.merge(df_classes, how='left', right_on=\"txId\", left_on=0)\n",
    "\n",
    "df_merge = df_merge.drop(['txId'], axis=1)\n",
    "\n",
    "# для удобства заменим Id узлов на порядковые номера \n",
    "nodes = df_merge[0].values\n",
    "map_id = {j: i for i, j in enumerate(nodes)}\n",
    "\n",
    "edges = df_edges.copy()\n",
    "\n",
    "edges.txId1 = edges.txId1.map(map_id)\n",
    "edges.txId2 = edges.txId2.map(map_id)\n",
    "\n",
    "edges = edges.astype(int)\n",
    "\n",
    "edge_index = np.array(edges.values).T\n",
    "edge_index = torch.tensor(edge_index, dtype=torch.long).contiguous()\n",
    "\n",
    "# т.к. граф не взвешенный, то все веса зададим единицами\n",
    "weights = torch.tensor([1] * edge_index.shape[1], dtype=torch.float32)\n",
    "\n",
    "# индексы классифицированных и неклассифицированных узлов\n",
    "classified_idx = df_merge['class'].loc[df_merge['class'] != 2].index\n",
    "unclassified_idx = df_merge['class'].loc[df_merge['class'] == 2].index\n",
    "\n",
    "df_copy = df_merge.copy()\n",
    "\n",
    "# заменим метки узлов неизвестного класса на метки известного класса, \n",
    "# чтобы в будущем метрики работали в режиме бинарной классификации \n",
    "df_copy['class'] = df_copy['class'].replace(2, 0)\n",
    "\n",
    "# выделим отдельно метки\n",
    "labels = torch.tensor(df_copy['class'].values, dtype=torch.float32)\n",
    "\n",
    "# и отдельно параметры\n",
    "node_features = torch.tensor(np.array(df_copy.drop([0, 'class'], axis=1).values), dtype=torch.float32)"
   ]
  },
  {
   "cell_type": "code",
   "execution_count": 5,
   "id": "1964046c",
   "metadata": {
    "execution": {
     "iopub.execute_input": "2024-03-27T10:33:23.939279Z",
     "iopub.status.busy": "2024-03-27T10:33:23.938693Z",
     "iopub.status.idle": "2024-03-27T10:33:23.946609Z",
     "shell.execute_reply": "2024-03-27T10:33:23.945761Z"
    },
    "papermill": {
     "duration": 0.020624,
     "end_time": "2024-03-27T10:33:23.948732",
     "exception": false,
     "start_time": "2024-03-27T10:33:23.928108",
     "status": "completed"
    },
    "tags": []
   },
   "outputs": [
    {
     "data": {
      "text/plain": [
       "Data(x=[203769, 166], edge_index=[2, 234355], y=[203769], edge_weights=[234355])"
      ]
     },
     "execution_count": 5,
     "metadata": {},
     "output_type": "execute_result"
    }
   ],
   "source": [
    "# создадим графовый датасет из библиотеки torch_geometric\n",
    "elliptic_dataset = Data(x = node_features,\n",
    "                        edge_index = edge_index,\n",
    "                        edge_weights = weights,\n",
    "                        y = labels)\n",
    "elliptic_dataset"
   ]
  },
  {
   "cell_type": "code",
   "execution_count": 6,
   "id": "8d871107",
   "metadata": {
    "execution": {
     "iopub.execute_input": "2024-03-27T10:33:23.969739Z",
     "iopub.status.busy": "2024-03-27T10:33:23.969060Z",
     "iopub.status.idle": "2024-03-27T10:33:24.111415Z",
     "shell.execute_reply": "2024-03-27T10:33:24.110558Z"
    },
    "papermill": {
     "duration": 0.154985,
     "end_time": "2024-03-27T10:33:24.113390",
     "exception": false,
     "start_time": "2024-03-27T10:33:23.958405",
     "status": "completed"
    },
    "tags": []
   },
   "outputs": [
    {
     "data": {
      "text/plain": [
       "torch.Size([46564, 166])"
      ]
     },
     "execution_count": 6,
     "metadata": {},
     "output_type": "execute_result"
    }
   ],
   "source": [
    "elliptic_dataset.x[classified_idx].shape"
   ]
  },
  {
   "cell_type": "code",
   "execution_count": 7,
   "id": "cc0e7313",
   "metadata": {
    "execution": {
     "iopub.execute_input": "2024-03-27T10:33:24.133684Z",
     "iopub.status.busy": "2024-03-27T10:33:24.133388Z",
     "iopub.status.idle": "2024-03-27T10:33:24.289109Z",
     "shell.execute_reply": "2024-03-27T10:33:24.288133Z"
    },
    "papermill": {
     "duration": 0.168599,
     "end_time": "2024-03-27T10:33:24.291564",
     "exception": false,
     "start_time": "2024-03-27T10:33:24.122965",
     "status": "completed"
    },
    "tags": []
   },
   "outputs": [
    {
     "name": "stdout",
     "output_type": "stream",
     "text": [
      "Кол-во узлов: 203769\n",
      "Кол-во параметров узлов: 166\n",
      "Кол-во ребер: 234355\n",
      "Кол-во параметров ребер: 166\n",
      "Средняя степень вершины: 1.15\n",
      "Кол-во классов: 2\n",
      "Изолированные узлы: False\n",
      "Петли: False\n",
      "Ориентированность: True\n"
     ]
    }
   ],
   "source": [
    "print(f'Кол-во узлов: {elliptic_dataset.num_nodes}')\n",
    "print(f'Кол-во параметров узлов: {elliptic_dataset.num_features}')\n",
    "print(f'Кол-во ребер: {elliptic_dataset.num_edges}')\n",
    "print(f'Кол-во параметров ребер: {elliptic_dataset.num_features}')\n",
    "print(f'Средняя степень вершины: {elliptic_dataset.num_edges / elliptic_dataset.num_nodes:.2f}')\n",
    "print(f'Кол-во классов: {len(np.unique(elliptic_dataset.y))}')\n",
    "print(f'Изолированные узлы: {elliptic_dataset.has_isolated_nodes()}')\n",
    "print(f'Петли: {elliptic_dataset.has_self_loops()}')\n",
    "print(f'Ориентированность: {elliptic_dataset.is_directed()}')"
   ]
  },
  {
   "cell_type": "code",
   "execution_count": 8,
   "id": "7d24cc2b",
   "metadata": {
    "execution": {
     "iopub.execute_input": "2024-03-27T10:33:24.311888Z",
     "iopub.status.busy": "2024-03-27T10:33:24.311583Z",
     "iopub.status.idle": "2024-03-27T10:33:24.663920Z",
     "shell.execute_reply": "2024-03-27T10:33:24.662939Z"
    },
    "papermill": {
     "duration": 0.364945,
     "end_time": "2024-03-27T10:33:24.666157",
     "exception": false,
     "start_time": "2024-03-27T10:33:24.301212",
     "status": "completed"
    },
    "tags": []
   },
   "outputs": [
    {
     "name": "stdout",
     "output_type": "stream",
     "text": [
      "Размер тренировочного датасета: 29894\n",
      "Размер валидационного датасета: 16670\n",
      "Размер тестового датасета: 157205\n"
     ]
    }
   ],
   "source": [
    "y_train = labels[classified_idx]\n",
    "\n",
    "# разделяем датасет на тренировочный и валидационный\n",
    "# т.к. графовый датасет имеет 49 компонент связности, то мы делим датасет именно по ним\n",
    "# мы взяли разбиение 35 к 14 как в статье\n",
    "\n",
    "train_idx, valid_idx = df_copy.loc[classified_idx, :][df_copy.loc[classified_idx, :][1] <= 34].index, \\\n",
    "                        df_copy.loc[classified_idx, :][df_copy.loc[classified_idx, :][1] > 34].index\n",
    "\n",
    "elliptic_dataset.train_idx = torch.tensor(train_idx, dtype=torch.long)\n",
    "elliptic_dataset.val_idx = torch.tensor(valid_idx, dtype=torch.long)\n",
    "elliptic_dataset.test_idx = torch.tensor(unclassified_idx, dtype=torch.long)\n",
    "\n",
    "print(\"Размер тренировочного датасета:\", elliptic_dataset.train_idx.shape[0])\n",
    "print(\"Размер валидационного датасета:\", elliptic_dataset.val_idx.shape[0])\n",
    "print(\"Размер тестового датасета:\", elliptic_dataset.test_idx.shape[0])\n"
   ]
  },
  {
   "cell_type": "markdown",
   "id": "9a713cac",
   "metadata": {
    "papermill": {
     "duration": 0.009949,
     "end_time": "2024-03-27T10:33:24.686709",
     "exception": false,
     "start_time": "2024-03-27T10:33:24.676760",
     "status": "completed"
    },
    "tags": []
   },
   "source": [
    "# Модель"
   ]
  },
  {
   "cell_type": "code",
   "execution_count": 9,
   "id": "e95a1cff",
   "metadata": {
    "execution": {
     "iopub.execute_input": "2024-03-27T10:33:24.708108Z",
     "iopub.status.busy": "2024-03-27T10:33:24.707474Z",
     "iopub.status.idle": "2024-03-27T10:33:24.717055Z",
     "shell.execute_reply": "2024-03-27T10:33:24.716200Z"
    },
    "papermill": {
     "duration": 0.022505,
     "end_time": "2024-03-27T10:33:24.718923",
     "exception": false,
     "start_time": "2024-03-27T10:33:24.696418",
     "status": "completed"
    },
    "tags": []
   },
   "outputs": [],
   "source": [
    "class TGNN(torch.nn.Module):\n",
    "    def __init__(self, dim_in, dim_out, K1, K2):\n",
    "        super().__init__()\n",
    "        self.norm1 = torch.nn.BatchNorm1d(dim_in)\n",
    "        self.layer1 = torch_geometric.nn.conv.GATConv(dim_in, 50, 3)\n",
    "        self.norm2 = torch.nn.BatchNorm1d(50 * 3)\n",
    "        self.layer2 = torch_geometric.nn.conv.TAGConv(50 * 3, dim_out, K1)\n",
    "        self.layer3 = torch_geometric.nn.conv.TAGConv(50 * 3, dim_out, K2)\n",
    "        self.lin = torch.nn.Linear(2, 1, bias=False)\n",
    "    \n",
    "    def forward(self, x, edge_index):\n",
    "        h = self.norm1(x) # нормировка по батчу\n",
    "        h = self.layer1(h, edge_index) #слой attention\n",
    "        h = F.relu(h) # активация\n",
    "        \n",
    "        h = self.norm2(h) # нормировка по батчу\n",
    "        h = F.relu(h) # активация\n",
    "        out1, out2 = self.layer2(h, edge_index), self.layer3(h, edge_index) # два параллельных топологических слоя \n",
    "        \n",
    "        out = 0.5 * self.lin(torch.stack([out1, out2]).T[0]) # комбинация двух ответов топологических слоев\n",
    "        \n",
    "        return out\n"
   ]
  },
  {
   "cell_type": "markdown",
   "id": "5c489c68",
   "metadata": {
    "papermill": {
     "duration": 0.009343,
     "end_time": "2024-03-27T10:33:24.737954",
     "exception": false,
     "start_time": "2024-03-27T10:33:24.728611",
     "status": "completed"
    },
    "tags": []
   },
   "source": [
    "### Вспомогательные функции"
   ]
  },
  {
   "cell_type": "code",
   "execution_count": 10,
   "id": "d3217e6d",
   "metadata": {
    "execution": {
     "iopub.execute_input": "2024-03-27T10:33:24.758139Z",
     "iopub.status.busy": "2024-03-27T10:33:24.757459Z",
     "iopub.status.idle": "2024-03-27T10:33:24.769016Z",
     "shell.execute_reply": "2024-03-27T10:33:24.768252Z"
    },
    "papermill": {
     "duration": 0.023544,
     "end_time": "2024-03-27T10:33:24.770924",
     "exception": false,
     "start_time": "2024-03-27T10:33:24.747380",
     "status": "completed"
    },
    "tags": []
   },
   "outputs": [],
   "source": [
    "def train(model, data, criterion, optimizer, *args):\n",
    "    \n",
    "    num_epochs = args[0]\n",
    "    checkpoint_dir = args[1]\n",
    "    model_filename = args[2]\n",
    "    \n",
    "    if not os.path.exists(checkpoints_dir):\n",
    "        os.makedirs(checkpoints_dir)\n",
    "    \n",
    "    best_loss = 100000\n",
    "    best_acc = 100000 \n",
    "    model.train()\n",
    "    for epoch in range(num_epochs):\n",
    "        optimizer.zero_grad()\n",
    "        pred = model(data.x, data.edge_index)\n",
    "        loss = criterion(pred[data.train_idx], data.y[data.train_idx].unsqueeze(1))\n",
    "        acc = accuracy(pred[data.train_idx], data.y[data.train_idx].unsqueeze(1))\n",
    "        \n",
    "        loss.backward()\n",
    "        optimizer.step()\n",
    "        \n",
    "        val_loss = criterion(pred[data.val_idx], data.y[data.val_idx].unsqueeze(1))\n",
    "        val_acc = accuracy(pred[data.val_idx], data.y[data.val_idx].unsqueeze(1))\n",
    "        \n",
    "        if epoch % 5 == 0:\n",
    "            print(f'Epoch {epoch:>3} | Train Loss: {loss:.3f} | Train Acc: '\n",
    "                  f'{acc*100:>6.2f}% | Val Loss: {val_loss:.4f} | '\n",
    "                  f'Val Acc: {val_acc*100:.2f}%')\n",
    "            if val_loss < best_loss:\n",
    "                best_loss = val_loss\n",
    "                print('Saving best model state')\n",
    "                checkpoint = {'state_dict': model.state_dict()}\n",
    "                torch.save(checkpoint, os.path.join(checkpoints_dir, model_filename))\n",
    "        \n",
    "    return model\n",
    "\n",
    "\n",
    "def test(model, data):\n",
    "    model.eval()\n",
    "    preds = model(data.x, data.edge_index)\n",
    "    preds = ((torch.sigmoid(preds) > 0.5).float() * 1).squeeze(1)\n",
    "    return preds\n",
    "\n",
    "\n",
    "def accuracy(y_pred, y_test, prediction_threshold=0.5):\n",
    "    y_pred_label = (torch.sigmoid(y_pred) > prediction_threshold).float()\n",
    "\n",
    "    correct_results_sum = (y_pred_label == y_test).sum().float()\n",
    "    acc = correct_results_sum/y_test.shape[0]\n",
    "\n",
    "    return acc"
   ]
  },
  {
   "cell_type": "code",
   "execution_count": 11,
   "id": "678aeab6",
   "metadata": {
    "execution": {
     "iopub.execute_input": "2024-03-27T10:33:24.790745Z",
     "iopub.status.busy": "2024-03-27T10:33:24.790459Z",
     "iopub.status.idle": "2024-03-27T10:33:24.877437Z",
     "shell.execute_reply": "2024-03-27T10:33:24.876559Z"
    },
    "papermill": {
     "duration": 0.099386,
     "end_time": "2024-03-27T10:33:24.879644",
     "exception": false,
     "start_time": "2024-03-27T10:33:24.780258",
     "status": "completed"
    },
    "tags": []
   },
   "outputs": [
    {
     "data": {
      "text/plain": [
       "device(type='cuda', index=0)"
      ]
     },
     "execution_count": 11,
     "metadata": {},
     "output_type": "execute_result"
    }
   ],
   "source": [
    "seed = 42\n",
    "\n",
    "# параметры оптимизатора\n",
    "learning_rate = 0.0001\n",
    "weight_decay = 0.001\n",
    "momentum = 0.01\n",
    "alpha = 0.9999\n",
    "\n",
    "# параметры модели\n",
    "input_dim = 166\n",
    "output_dim = 1\n",
    "K1 = 6\n",
    "K2 = 5\n",
    "num_epochs = 1000\n",
    "\n",
    "checkpoints_dir = './models/elliptic_tgnn'\n",
    "device = torch.device('cuda:0' if torch.cuda.is_available() else 'cpu')\n",
    "\n",
    "device"
   ]
  },
  {
   "cell_type": "markdown",
   "id": "64b0e574",
   "metadata": {
    "papermill": {
     "duration": 0.009514,
     "end_time": "2024-03-27T10:33:24.899412",
     "exception": false,
     "start_time": "2024-03-27T10:33:24.889898",
     "status": "completed"
    },
    "tags": []
   },
   "source": [
    "# Обучение"
   ]
  },
  {
   "cell_type": "code",
   "execution_count": 12,
   "id": "4a2cb577",
   "metadata": {
    "execution": {
     "iopub.execute_input": "2024-03-27T10:33:24.920484Z",
     "iopub.status.busy": "2024-03-27T10:33:24.920186Z",
     "iopub.status.idle": "2024-03-27T10:37:12.616544Z",
     "shell.execute_reply": "2024-03-27T10:37:12.615540Z"
    },
    "papermill": {
     "duration": 227.709371,
     "end_time": "2024-03-27T10:37:12.618745",
     "exception": false,
     "start_time": "2024-03-27T10:33:24.909374",
     "status": "completed"
    },
    "scrolled": true,
    "tags": []
   },
   "outputs": [
    {
     "name": "stderr",
     "output_type": "stream",
     "text": [
      "/tmp/ipykernel_26/1111339949.py:20: UserWarning: The use of `x.T` on tensors of dimension other than 2 to reverse their shape is deprecated and it will throw an error in a future release. Consider `x.mT` to transpose batches of matrices or `x.permute(*torch.arange(x.ndim - 1, -1, -1))` to reverse the dimensions of a tensor. (Triggered internally at /usr/local/src/pytorch/aten/src/ATen/native/TensorShape.cpp:3614.)\n",
      "  out = 0.5 * self.lin(torch.stack([out1, out2]).T[0]) # комбинация двух ответов топологических слоев\n"
     ]
    },
    {
     "name": "stdout",
     "output_type": "stream",
     "text": [
      "Epoch   0 | Train Loss: 0.697 | Train Acc:  47.76% | Val Loss: 0.7059 | Val Acc: 35.03%\n",
      "Saving best model state\n",
      "Epoch   5 | Train Loss: 0.379 | Train Acc:  88.88% | Val Loss: 0.5359 | Val Acc: 83.94%\n",
      "Saving best model state\n",
      "Epoch  10 | Train Loss: 0.293 | Train Acc:  90.05% | Val Loss: 0.4868 | Val Acc: 87.07%\n",
      "Saving best model state\n",
      "Epoch  15 | Train Loss: 0.252 | Train Acc:  90.93% | Val Loss: 0.4533 | Val Acc: 88.64%\n",
      "Saving best model state\n",
      "Epoch  20 | Train Loss: 0.229 | Train Acc:  91.78% | Val Loss: 0.4325 | Val Acc: 90.11%\n",
      "Saving best model state\n",
      "Epoch  25 | Train Loss: 0.214 | Train Acc:  93.01% | Val Loss: 0.4047 | Val Acc: 91.55%\n",
      "Saving best model state\n",
      "Epoch  30 | Train Loss: 0.201 | Train Acc:  93.24% | Val Loss: 0.3969 | Val Acc: 92.21%\n",
      "Saving best model state\n",
      "Epoch  35 | Train Loss: 0.190 | Train Acc:  94.06% | Val Loss: 0.3701 | Val Acc: 93.28%\n",
      "Saving best model state\n",
      "Epoch  40 | Train Loss: 0.180 | Train Acc:  94.06% | Val Loss: 0.3713 | Val Acc: 93.52%\n",
      "Epoch  45 | Train Loss: 0.172 | Train Acc:  94.88% | Val Loss: 0.3434 | Val Acc: 94.28%\n",
      "Saving best model state\n",
      "Epoch  50 | Train Loss: 0.164 | Train Acc:  94.71% | Val Loss: 0.3507 | Val Acc: 94.38%\n",
      "Epoch  55 | Train Loss: 0.157 | Train Acc:  95.55% | Val Loss: 0.3242 | Val Acc: 94.82%\n",
      "Saving best model state\n",
      "Epoch  60 | Train Loss: 0.150 | Train Acc:  95.29% | Val Loss: 0.3362 | Val Acc: 94.93%\n",
      "Epoch  65 | Train Loss: 0.144 | Train Acc:  96.00% | Val Loss: 0.3077 | Val Acc: 95.37%\n",
      "Saving best model state\n",
      "Epoch  70 | Train Loss: 0.139 | Train Acc:  95.74% | Val Loss: 0.3211 | Val Acc: 95.28%\n",
      "Epoch  75 | Train Loss: 0.133 | Train Acc:  96.40% | Val Loss: 0.2902 | Val Acc: 95.81%\n",
      "Saving best model state\n",
      "Epoch  80 | Train Loss: 0.128 | Train Acc:  96.07% | Val Loss: 0.3083 | Val Acc: 95.54%\n",
      "Epoch  85 | Train Loss: 0.125 | Train Acc:  96.69% | Val Loss: 0.2773 | Val Acc: 95.88%\n",
      "Saving best model state\n",
      "Epoch  90 | Train Loss: 0.119 | Train Acc:  96.39% | Val Loss: 0.2923 | Val Acc: 95.91%\n",
      "Epoch  95 | Train Loss: 0.116 | Train Acc:  96.97% | Val Loss: 0.2663 | Val Acc: 96.21%\n",
      "Saving best model state\n",
      "Epoch 100 | Train Loss: 0.112 | Train Acc:  96.63% | Val Loss: 0.2838 | Val Acc: 96.14%\n",
      "Epoch 105 | Train Loss: 0.109 | Train Acc:  97.10% | Val Loss: 0.2530 | Val Acc: 96.37%\n",
      "Saving best model state\n",
      "Epoch 110 | Train Loss: 0.105 | Train Acc:  96.89% | Val Loss: 0.2716 | Val Acc: 96.35%\n",
      "Epoch 115 | Train Loss: 0.102 | Train Acc:  97.27% | Val Loss: 0.2427 | Val Acc: 96.47%\n",
      "Saving best model state\n",
      "Epoch 120 | Train Loss: 0.100 | Train Acc:  97.07% | Val Loss: 0.2562 | Val Acc: 96.41%\n",
      "Epoch 125 | Train Loss: 0.097 | Train Acc:  97.37% | Val Loss: 0.2357 | Val Acc: 96.49%\n",
      "Saving best model state\n",
      "Epoch 130 | Train Loss: 0.095 | Train Acc:  97.26% | Val Loss: 0.2486 | Val Acc: 96.54%\n",
      "Epoch 135 | Train Loss: 0.092 | Train Acc:  97.53% | Val Loss: 0.2269 | Val Acc: 96.60%\n",
      "Saving best model state\n",
      "Epoch 140 | Train Loss: 0.089 | Train Acc:  97.44% | Val Loss: 0.2446 | Val Acc: 96.65%\n",
      "Epoch 145 | Train Loss: 0.088 | Train Acc:  97.66% | Val Loss: 0.2203 | Val Acc: 96.63%\n",
      "Saving best model state\n",
      "Epoch 150 | Train Loss: 0.085 | Train Acc:  97.51% | Val Loss: 0.2370 | Val Acc: 96.71%\n",
      "Epoch 155 | Train Loss: 0.085 | Train Acc:  97.77% | Val Loss: 0.2209 | Val Acc: 96.71%\n",
      "Epoch 160 | Train Loss: 0.081 | Train Acc:  97.68% | Val Loss: 0.2304 | Val Acc: 96.78%\n",
      "Epoch 165 | Train Loss: 0.081 | Train Acc:  97.91% | Val Loss: 0.2102 | Val Acc: 96.77%\n",
      "Saving best model state\n",
      "Epoch 170 | Train Loss: 0.079 | Train Acc:  97.73% | Val Loss: 0.2299 | Val Acc: 96.74%\n",
      "Epoch 175 | Train Loss: 0.077 | Train Acc:  98.00% | Val Loss: 0.2075 | Val Acc: 96.79%\n",
      "Saving best model state\n",
      "Epoch 180 | Train Loss: 0.076 | Train Acc:  97.81% | Val Loss: 0.2250 | Val Acc: 96.77%\n",
      "Epoch 185 | Train Loss: 0.075 | Train Acc:  98.09% | Val Loss: 0.2071 | Val Acc: 96.83%\n",
      "Saving best model state\n",
      "Epoch 190 | Train Loss: 0.074 | Train Acc:  97.92% | Val Loss: 0.2188 | Val Acc: 96.86%\n",
      "Epoch 195 | Train Loss: 0.072 | Train Acc:  98.13% | Val Loss: 0.2009 | Val Acc: 96.85%\n",
      "Saving best model state\n",
      "Epoch 200 | Train Loss: 0.071 | Train Acc:  97.94% | Val Loss: 0.2207 | Val Acc: 96.87%\n",
      "Epoch 205 | Train Loss: 0.070 | Train Acc:  98.23% | Val Loss: 0.1978 | Val Acc: 96.83%\n",
      "Saving best model state\n",
      "Epoch 210 | Train Loss: 0.068 | Train Acc:  98.05% | Val Loss: 0.2159 | Val Acc: 96.91%\n",
      "Epoch 215 | Train Loss: 0.068 | Train Acc:  98.26% | Val Loss: 0.1957 | Val Acc: 96.93%\n",
      "Saving best model state\n",
      "Epoch 220 | Train Loss: 0.068 | Train Acc:  98.04% | Val Loss: 0.2137 | Val Acc: 96.92%\n",
      "Epoch 225 | Train Loss: 0.066 | Train Acc:  98.30% | Val Loss: 0.1979 | Val Acc: 96.89%\n",
      "Epoch 230 | Train Loss: 0.065 | Train Acc:  98.12% | Val Loss: 0.2093 | Val Acc: 96.95%\n",
      "Epoch 235 | Train Loss: 0.065 | Train Acc:  98.36% | Val Loss: 0.1897 | Val Acc: 96.93%\n",
      "Saving best model state\n",
      "Epoch 240 | Train Loss: 0.063 | Train Acc:  98.23% | Val Loss: 0.2093 | Val Acc: 96.96%\n",
      "Epoch 245 | Train Loss: 0.062 | Train Acc:  98.42% | Val Loss: 0.1898 | Val Acc: 96.95%\n",
      "Epoch 250 | Train Loss: 0.063 | Train Acc:  98.19% | Val Loss: 0.2058 | Val Acc: 96.99%\n",
      "Epoch 255 | Train Loss: 0.061 | Train Acc:  98.45% | Val Loss: 0.1904 | Val Acc: 96.95%\n",
      "Epoch 260 | Train Loss: 0.060 | Train Acc:  98.27% | Val Loss: 0.2022 | Val Acc: 97.01%\n",
      "Epoch 265 | Train Loss: 0.060 | Train Acc:  98.49% | Val Loss: 0.1874 | Val Acc: 96.95%\n",
      "Saving best model state\n",
      "Epoch 270 | Train Loss: 0.059 | Train Acc:  98.30% | Val Loss: 0.2022 | Val Acc: 97.00%\n",
      "Epoch 275 | Train Loss: 0.058 | Train Acc:  98.53% | Val Loss: 0.1838 | Val Acc: 96.98%\n",
      "Saving best model state\n",
      "Epoch 280 | Train Loss: 0.058 | Train Acc:  98.37% | Val Loss: 0.2006 | Val Acc: 97.02%\n",
      "Epoch 285 | Train Loss: 0.058 | Train Acc:  98.55% | Val Loss: 0.1839 | Val Acc: 96.93%\n",
      "Epoch 290 | Train Loss: 0.057 | Train Acc:  98.35% | Val Loss: 0.1958 | Val Acc: 97.01%\n",
      "Epoch 295 | Train Loss: 0.056 | Train Acc:  98.58% | Val Loss: 0.1835 | Val Acc: 96.98%\n",
      "Saving best model state\n",
      "Epoch 300 | Train Loss: 0.056 | Train Acc:  98.40% | Val Loss: 0.1971 | Val Acc: 96.99%\n",
      "Epoch 305 | Train Loss: 0.055 | Train Acc:  98.63% | Val Loss: 0.1786 | Val Acc: 97.00%\n",
      "Saving best model state\n",
      "Epoch 310 | Train Loss: 0.055 | Train Acc:  98.47% | Val Loss: 0.1978 | Val Acc: 97.05%\n",
      "Epoch 315 | Train Loss: 0.054 | Train Acc:  98.60% | Val Loss: 0.1779 | Val Acc: 96.95%\n",
      "Saving best model state\n",
      "Epoch 320 | Train Loss: 0.053 | Train Acc:  98.54% | Val Loss: 0.1945 | Val Acc: 97.07%\n",
      "Epoch 325 | Train Loss: 0.053 | Train Acc:  98.64% | Val Loss: 0.1767 | Val Acc: 97.02%\n",
      "Saving best model state\n",
      "Epoch 330 | Train Loss: 0.053 | Train Acc:  98.45% | Val Loss: 0.1943 | Val Acc: 97.01%\n",
      "Epoch 335 | Train Loss: 0.053 | Train Acc:  98.70% | Val Loss: 0.1805 | Val Acc: 96.98%\n",
      "Epoch 340 | Train Loss: 0.051 | Train Acc:  98.54% | Val Loss: 0.1895 | Val Acc: 97.05%\n",
      "Epoch 345 | Train Loss: 0.052 | Train Acc:  98.74% | Val Loss: 0.1757 | Val Acc: 96.99%\n",
      "Saving best model state\n",
      "Epoch 350 | Train Loss: 0.051 | Train Acc:  98.52% | Val Loss: 0.1905 | Val Acc: 97.04%\n",
      "Epoch 355 | Train Loss: 0.051 | Train Acc:  98.76% | Val Loss: 0.1760 | Val Acc: 97.02%\n",
      "Epoch 360 | Train Loss: 0.051 | Train Acc:  98.54% | Val Loss: 0.1896 | Val Acc: 97.04%\n",
      "Epoch 365 | Train Loss: 0.050 | Train Acc:  98.78% | Val Loss: 0.1757 | Val Acc: 97.04%\n",
      "Saving best model state\n",
      "Epoch 370 | Train Loss: 0.050 | Train Acc:  98.55% | Val Loss: 0.1896 | Val Acc: 97.05%\n",
      "Epoch 375 | Train Loss: 0.049 | Train Acc:  98.79% | Val Loss: 0.1724 | Val Acc: 97.01%\n",
      "Saving best model state\n",
      "Epoch 380 | Train Loss: 0.049 | Train Acc:  98.58% | Val Loss: 0.1902 | Val Acc: 97.03%\n",
      "Epoch 385 | Train Loss: 0.048 | Train Acc:  98.82% | Val Loss: 0.1730 | Val Acc: 97.02%\n",
      "Epoch 390 | Train Loss: 0.048 | Train Acc:  98.60% | Val Loss: 0.1860 | Val Acc: 97.08%\n",
      "Epoch 395 | Train Loss: 0.048 | Train Acc:  98.85% | Val Loss: 0.1745 | Val Acc: 96.99%\n",
      "Epoch 400 | Train Loss: 0.047 | Train Acc:  98.66% | Val Loss: 0.1852 | Val Acc: 97.06%\n",
      "Epoch 405 | Train Loss: 0.047 | Train Acc:  98.84% | Val Loss: 0.1715 | Val Acc: 97.03%\n",
      "Saving best model state\n",
      "Epoch 410 | Train Loss: 0.047 | Train Acc:  98.67% | Val Loss: 0.1884 | Val Acc: 97.05%\n",
      "Epoch 415 | Train Loss: 0.046 | Train Acc:  98.84% | Val Loss: 0.1692 | Val Acc: 97.00%\n",
      "Saving best model state\n",
      "Epoch 420 | Train Loss: 0.046 | Train Acc:  98.72% | Val Loss: 0.1869 | Val Acc: 97.07%\n",
      "Epoch 425 | Train Loss: 0.046 | Train Acc:  98.86% | Val Loss: 0.1686 | Val Acc: 97.01%\n",
      "Saving best model state\n",
      "Epoch 430 | Train Loss: 0.046 | Train Acc:  98.70% | Val Loss: 0.1856 | Val Acc: 97.07%\n",
      "Epoch 435 | Train Loss: 0.046 | Train Acc:  98.91% | Val Loss: 0.1720 | Val Acc: 96.99%\n",
      "Epoch 440 | Train Loss: 0.045 | Train Acc:  98.75% | Val Loss: 0.1806 | Val Acc: 97.05%\n",
      "Epoch 445 | Train Loss: 0.045 | Train Acc:  98.92% | Val Loss: 0.1705 | Val Acc: 97.01%\n",
      "Epoch 450 | Train Loss: 0.045 | Train Acc:  98.69% | Val Loss: 0.1859 | Val Acc: 97.04%\n",
      "Epoch 455 | Train Loss: 0.044 | Train Acc:  98.90% | Val Loss: 0.1687 | Val Acc: 97.05%\n",
      "Epoch 460 | Train Loss: 0.044 | Train Acc:  98.76% | Val Loss: 0.1835 | Val Acc: 97.09%\n",
      "Epoch 465 | Train Loss: 0.044 | Train Acc:  98.95% | Val Loss: 0.1691 | Val Acc: 97.02%\n",
      "Epoch 470 | Train Loss: 0.044 | Train Acc:  98.78% | Val Loss: 0.1799 | Val Acc: 97.10%\n",
      "Epoch 475 | Train Loss: 0.043 | Train Acc:  98.96% | Val Loss: 0.1707 | Val Acc: 97.05%\n",
      "Epoch 480 | Train Loss: 0.043 | Train Acc:  98.81% | Val Loss: 0.1817 | Val Acc: 97.03%\n",
      "Epoch 485 | Train Loss: 0.044 | Train Acc:  98.93% | Val Loss: 0.1647 | Val Acc: 97.07%\n",
      "Saving best model state\n",
      "Epoch 490 | Train Loss: 0.043 | Train Acc:  98.83% | Val Loss: 0.1826 | Val Acc: 97.05%\n",
      "Epoch 495 | Train Loss: 0.042 | Train Acc:  98.91% | Val Loss: 0.1669 | Val Acc: 97.11%\n",
      "Epoch 500 | Train Loss: 0.043 | Train Acc:  98.89% | Val Loss: 0.1820 | Val Acc: 97.03%\n",
      "Epoch 505 | Train Loss: 0.042 | Train Acc:  98.92% | Val Loss: 0.1672 | Val Acc: 97.10%\n",
      "Epoch 510 | Train Loss: 0.042 | Train Acc:  98.88% | Val Loss: 0.1814 | Val Acc: 97.08%\n",
      "Epoch 515 | Train Loss: 0.043 | Train Acc:  98.97% | Val Loss: 0.1640 | Val Acc: 97.05%\n",
      "Saving best model state\n",
      "Epoch 520 | Train Loss: 0.042 | Train Acc:  98.83% | Val Loss: 0.1785 | Val Acc: 97.06%\n",
      "Epoch 525 | Train Loss: 0.041 | Train Acc:  99.04% | Val Loss: 0.1684 | Val Acc: 97.02%\n",
      "Epoch 530 | Train Loss: 0.041 | Train Acc:  98.85% | Val Loss: 0.1780 | Val Acc: 97.07%\n",
      "Epoch 535 | Train Loss: 0.041 | Train Acc:  99.00% | Val Loss: 0.1643 | Val Acc: 97.07%\n",
      "Epoch 540 | Train Loss: 0.040 | Train Acc:  98.87% | Val Loss: 0.1790 | Val Acc: 97.11%\n",
      "Epoch 545 | Train Loss: 0.041 | Train Acc:  99.00% | Val Loss: 0.1650 | Val Acc: 97.05%\n",
      "Epoch 550 | Train Loss: 0.041 | Train Acc:  98.85% | Val Loss: 0.1784 | Val Acc: 97.07%\n",
      "Epoch 555 | Train Loss: 0.040 | Train Acc:  99.04% | Val Loss: 0.1656 | Val Acc: 97.05%\n",
      "Epoch 560 | Train Loss: 0.040 | Train Acc:  98.90% | Val Loss: 0.1764 | Val Acc: 97.07%\n",
      "Epoch 565 | Train Loss: 0.040 | Train Acc:  99.03% | Val Loss: 0.1641 | Val Acc: 97.07%\n",
      "Epoch 570 | Train Loss: 0.040 | Train Acc:  98.88% | Val Loss: 0.1786 | Val Acc: 97.11%\n",
      "Epoch 575 | Train Loss: 0.039 | Train Acc:  99.04% | Val Loss: 0.1638 | Val Acc: 97.10%\n",
      "Saving best model state\n",
      "Epoch 580 | Train Loss: 0.039 | Train Acc:  98.91% | Val Loss: 0.1780 | Val Acc: 97.16%\n",
      "Epoch 585 | Train Loss: 0.040 | Train Acc:  99.05% | Val Loss: 0.1630 | Val Acc: 97.08%\n",
      "Saving best model state\n",
      "Epoch 590 | Train Loss: 0.039 | Train Acc:  98.90% | Val Loss: 0.1756 | Val Acc: 97.10%\n",
      "Epoch 595 | Train Loss: 0.039 | Train Acc:  99.08% | Val Loss: 0.1664 | Val Acc: 97.07%\n",
      "Epoch 600 | Train Loss: 0.039 | Train Acc:  98.91% | Val Loss: 0.1745 | Val Acc: 97.13%\n",
      "Epoch 605 | Train Loss: 0.039 | Train Acc:  99.03% | Val Loss: 0.1607 | Val Acc: 97.09%\n",
      "Saving best model state\n",
      "Epoch 610 | Train Loss: 0.038 | Train Acc:  98.95% | Val Loss: 0.1778 | Val Acc: 97.18%\n",
      "Epoch 615 | Train Loss: 0.038 | Train Acc:  99.05% | Val Loss: 0.1620 | Val Acc: 97.14%\n",
      "Epoch 620 | Train Loss: 0.038 | Train Acc:  98.98% | Val Loss: 0.1785 | Val Acc: 97.16%\n",
      "Epoch 625 | Train Loss: 0.038 | Train Acc:  99.04% | Val Loss: 0.1610 | Val Acc: 97.15%\n",
      "Epoch 630 | Train Loss: 0.038 | Train Acc:  99.05% | Val Loss: 0.1749 | Val Acc: 97.13%\n",
      "Epoch 635 | Train Loss: 0.038 | Train Acc:  99.00% | Val Loss: 0.1634 | Val Acc: 97.17%\n",
      "Epoch 640 | Train Loss: 0.037 | Train Acc:  99.06% | Val Loss: 0.1744 | Val Acc: 97.15%\n",
      "Epoch 645 | Train Loss: 0.038 | Train Acc:  99.07% | Val Loss: 0.1603 | Val Acc: 97.14%\n",
      "Saving best model state\n",
      "Epoch 650 | Train Loss: 0.038 | Train Acc:  98.91% | Val Loss: 0.1753 | Val Acc: 97.15%\n",
      "Epoch 655 | Train Loss: 0.037 | Train Acc:  99.11% | Val Loss: 0.1627 | Val Acc: 97.08%\n",
      "Epoch 660 | Train Loss: 0.037 | Train Acc:  98.99% | Val Loss: 0.1726 | Val Acc: 97.15%\n",
      "Epoch 665 | Train Loss: 0.037 | Train Acc:  99.13% | Val Loss: 0.1606 | Val Acc: 97.08%\n",
      "Epoch 670 | Train Loss: 0.037 | Train Acc:  98.96% | Val Loss: 0.1749 | Val Acc: 97.17%\n",
      "Epoch 675 | Train Loss: 0.036 | Train Acc:  99.13% | Val Loss: 0.1616 | Val Acc: 97.11%\n",
      "Epoch 680 | Train Loss: 0.037 | Train Acc:  98.97% | Val Loss: 0.1734 | Val Acc: 97.22%\n",
      "Epoch 685 | Train Loss: 0.037 | Train Acc:  99.13% | Val Loss: 0.1595 | Val Acc: 97.09%\n",
      "Saving best model state\n",
      "Epoch 690 | Train Loss: 0.036 | Train Acc:  98.99% | Val Loss: 0.1735 | Val Acc: 97.20%\n",
      "Epoch 695 | Train Loss: 0.036 | Train Acc:  99.16% | Val Loss: 0.1607 | Val Acc: 97.13%\n",
      "Epoch 700 | Train Loss: 0.036 | Train Acc:  98.98% | Val Loss: 0.1743 | Val Acc: 97.19%\n",
      "Epoch 705 | Train Loss: 0.037 | Train Acc:  99.14% | Val Loss: 0.1581 | Val Acc: 97.10%\n",
      "Saving best model state\n",
      "Epoch 710 | Train Loss: 0.036 | Train Acc:  99.00% | Val Loss: 0.1720 | Val Acc: 97.20%\n",
      "Epoch 715 | Train Loss: 0.036 | Train Acc:  99.15% | Val Loss: 0.1617 | Val Acc: 97.10%\n",
      "Epoch 720 | Train Loss: 0.036 | Train Acc:  99.02% | Val Loss: 0.1704 | Val Acc: 97.21%\n",
      "Epoch 725 | Train Loss: 0.036 | Train Acc:  99.16% | Val Loss: 0.1608 | Val Acc: 97.08%\n",
      "Epoch 730 | Train Loss: 0.036 | Train Acc:  99.01% | Val Loss: 0.1736 | Val Acc: 97.18%\n",
      "Epoch 735 | Train Loss: 0.035 | Train Acc:  99.16% | Val Loss: 0.1575 | Val Acc: 97.14%\n",
      "Saving best model state\n",
      "Epoch 740 | Train Loss: 0.035 | Train Acc:  99.08% | Val Loss: 0.1718 | Val Acc: 97.21%\n",
      "Epoch 745 | Train Loss: 0.035 | Train Acc:  99.18% | Val Loss: 0.1584 | Val Acc: 97.13%\n",
      "Epoch 750 | Train Loss: 0.036 | Train Acc:  99.03% | Val Loss: 0.1742 | Val Acc: 97.19%\n",
      "Epoch 755 | Train Loss: 0.035 | Train Acc:  99.19% | Val Loss: 0.1587 | Val Acc: 97.10%\n",
      "Epoch 760 | Train Loss: 0.035 | Train Acc:  99.03% | Val Loss: 0.1695 | Val Acc: 97.18%\n",
      "Epoch 765 | Train Loss: 0.035 | Train Acc:  99.19% | Val Loss: 0.1624 | Val Acc: 97.10%\n",
      "Epoch 770 | Train Loss: 0.034 | Train Acc:  99.09% | Val Loss: 0.1669 | Val Acc: 97.21%\n",
      "Epoch 775 | Train Loss: 0.035 | Train Acc:  99.19% | Val Loss: 0.1562 | Val Acc: 97.08%\n",
      "Saving best model state\n",
      "Epoch 780 | Train Loss: 0.035 | Train Acc:  99.05% | Val Loss: 0.1737 | Val Acc: 97.13%\n",
      "Epoch 785 | Train Loss: 0.034 | Train Acc:  99.17% | Val Loss: 0.1579 | Val Acc: 97.16%\n",
      "Epoch 790 | Train Loss: 0.034 | Train Acc:  99.11% | Val Loss: 0.1717 | Val Acc: 97.16%\n",
      "Epoch 795 | Train Loss: 0.034 | Train Acc:  99.16% | Val Loss: 0.1557 | Val Acc: 97.13%\n",
      "Saving best model state\n",
      "Epoch 800 | Train Loss: 0.034 | Train Acc:  99.14% | Val Loss: 0.1710 | Val Acc: 97.16%\n",
      "Epoch 805 | Train Loss: 0.033 | Train Acc:  99.19% | Val Loss: 0.1580 | Val Acc: 97.13%\n",
      "Epoch 810 | Train Loss: 0.034 | Train Acc:  99.03% | Val Loss: 0.1721 | Val Acc: 97.19%\n",
      "Epoch 815 | Train Loss: 0.035 | Train Acc:  99.19% | Val Loss: 0.1568 | Val Acc: 97.10%\n",
      "Epoch 820 | Train Loss: 0.033 | Train Acc:  99.08% | Val Loss: 0.1677 | Val Acc: 97.19%\n",
      "Epoch 825 | Train Loss: 0.033 | Train Acc:  99.23% | Val Loss: 0.1602 | Val Acc: 97.14%\n",
      "Epoch 830 | Train Loss: 0.033 | Train Acc:  99.08% | Val Loss: 0.1670 | Val Acc: 97.20%\n",
      "Epoch 835 | Train Loss: 0.034 | Train Acc:  99.21% | Val Loss: 0.1555 | Val Acc: 97.11%\n",
      "Saving best model state\n",
      "Epoch 840 | Train Loss: 0.034 | Train Acc:  99.08% | Val Loss: 0.1725 | Val Acc: 97.16%\n",
      "Epoch 845 | Train Loss: 0.033 | Train Acc:  99.21% | Val Loss: 0.1567 | Val Acc: 97.15%\n",
      "Epoch 850 | Train Loss: 0.033 | Train Acc:  99.07% | Val Loss: 0.1686 | Val Acc: 97.18%\n",
      "Epoch 855 | Train Loss: 0.034 | Train Acc:  99.22% | Val Loss: 0.1572 | Val Acc: 97.11%\n",
      "Epoch 860 | Train Loss: 0.033 | Train Acc:  99.08% | Val Loss: 0.1686 | Val Acc: 97.20%\n",
      "Epoch 865 | Train Loss: 0.033 | Train Acc:  99.24% | Val Loss: 0.1568 | Val Acc: 97.15%\n",
      "Epoch 870 | Train Loss: 0.033 | Train Acc:  99.13% | Val Loss: 0.1696 | Val Acc: 97.16%\n",
      "Epoch 875 | Train Loss: 0.033 | Train Acc:  99.18% | Val Loss: 0.1538 | Val Acc: 97.16%\n",
      "Saving best model state\n",
      "Epoch 880 | Train Loss: 0.032 | Train Acc:  99.17% | Val Loss: 0.1687 | Val Acc: 97.18%\n",
      "Epoch 885 | Train Loss: 0.032 | Train Acc:  99.16% | Val Loss: 0.1575 | Val Acc: 97.17%\n",
      "Epoch 890 | Train Loss: 0.032 | Train Acc:  99.18% | Val Loss: 0.1679 | Val Acc: 97.12%\n",
      "Epoch 895 | Train Loss: 0.032 | Train Acc:  99.19% | Val Loss: 0.1575 | Val Acc: 97.23%\n",
      "Epoch 900 | Train Loss: 0.032 | Train Acc:  99.22% | Val Loss: 0.1674 | Val Acc: 97.15%\n",
      "Epoch 905 | Train Loss: 0.032 | Train Acc:  99.18% | Val Loss: 0.1533 | Val Acc: 97.20%\n",
      "Saving best model state\n",
      "Epoch 910 | Train Loss: 0.033 | Train Acc:  99.07% | Val Loss: 0.1715 | Val Acc: 97.19%\n",
      "Epoch 915 | Train Loss: 0.033 | Train Acc:  99.26% | Val Loss: 0.1568 | Val Acc: 97.11%\n",
      "Epoch 920 | Train Loss: 0.032 | Train Acc:  99.11% | Val Loss: 0.1657 | Val Acc: 97.22%\n",
      "Epoch 925 | Train Loss: 0.032 | Train Acc:  99.26% | Val Loss: 0.1566 | Val Acc: 97.18%\n",
      "Epoch 930 | Train Loss: 0.032 | Train Acc:  99.11% | Val Loss: 0.1682 | Val Acc: 97.20%\n",
      "Epoch 935 | Train Loss: 0.032 | Train Acc:  99.24% | Val Loss: 0.1542 | Val Acc: 97.17%\n",
      "Epoch 940 | Train Loss: 0.031 | Train Acc:  99.16% | Val Loss: 0.1656 | Val Acc: 97.20%\n",
      "Epoch 945 | Train Loss: 0.031 | Train Acc:  99.26% | Val Loss: 0.1564 | Val Acc: 97.20%\n",
      "Epoch 950 | Train Loss: 0.032 | Train Acc:  99.10% | Val Loss: 0.1666 | Val Acc: 97.20%\n",
      "Epoch 955 | Train Loss: 0.032 | Train Acc:  99.26% | Val Loss: 0.1546 | Val Acc: 97.16%\n",
      "Epoch 960 | Train Loss: 0.031 | Train Acc:  99.16% | Val Loss: 0.1664 | Val Acc: 97.21%\n",
      "Epoch 965 | Train Loss: 0.031 | Train Acc:  99.26% | Val Loss: 0.1549 | Val Acc: 97.20%\n",
      "Epoch 970 | Train Loss: 0.031 | Train Acc:  99.14% | Val Loss: 0.1672 | Val Acc: 97.20%\n",
      "Epoch 975 | Train Loss: 0.031 | Train Acc:  99.27% | Val Loss: 0.1543 | Val Acc: 97.19%\n",
      "Epoch 980 | Train Loss: 0.031 | Train Acc:  99.15% | Val Loss: 0.1652 | Val Acc: 97.19%\n",
      "Epoch 985 | Train Loss: 0.031 | Train Acc:  99.27% | Val Loss: 0.1555 | Val Acc: 97.17%\n",
      "Epoch 990 | Train Loss: 0.031 | Train Acc:  99.14% | Val Loss: 0.1660 | Val Acc: 97.16%\n",
      "Epoch 995 | Train Loss: 0.031 | Train Acc:  99.27% | Val Loss: 0.1526 | Val Acc: 97.19%\n",
      "Saving best model state\n"
     ]
    },
    {
     "data": {
      "text/plain": [
       "TGNN(\n",
       "  (norm1): BatchNorm1d(166, eps=1e-05, momentum=0.1, affine=True, track_running_stats=True)\n",
       "  (layer1): GATConv(166, 50, heads=3)\n",
       "  (norm2): BatchNorm1d(150, eps=1e-05, momentum=0.1, affine=True, track_running_stats=True)\n",
       "  (layer2): TAGConv(150, 1, K=6)\n",
       "  (layer3): TAGConv(150, 1, K=5)\n",
       "  (lin): Linear(in_features=2, out_features=1, bias=False)\n",
       ")"
      ]
     },
     "execution_count": 12,
     "metadata": {},
     "output_type": "execute_result"
    }
   ],
   "source": [
    "torch.manual_seed(seed)\n",
    "model = TGNN(input_dim, output_dim, K1, K2).to(device)\n",
    "data_train = elliptic_dataset.to(device)\n",
    "\n",
    "# оптимизатор RMSProp был выбран эмпирически\n",
    "optimizer = torch.optim.RMSprop(model.parameters(), lr=learning_rate, momentum=momentum, alpha=alpha, weight_decay=weight_decay)\n",
    "criterion = torch.nn.BCEWithLogitsLoss()\n",
    "\n",
    "train(model, data_train, criterion, optimizer, num_epochs, checkpoints_dir, 'tgnn_model.pth.tar')"
   ]
  },
  {
   "cell_type": "markdown",
   "id": "4bb6267a",
   "metadata": {
    "papermill": {
     "duration": 0.028716,
     "end_time": "2024-03-27T10:37:12.674925",
     "exception": false,
     "start_time": "2024-03-27T10:37:12.646209",
     "status": "completed"
    },
    "tags": []
   },
   "source": [
    "# Тест"
   ]
  },
  {
   "cell_type": "code",
   "execution_count": 13,
   "id": "1290f97d",
   "metadata": {
    "execution": {
     "iopub.execute_input": "2024-03-27T10:37:12.729628Z",
     "iopub.status.busy": "2024-03-27T10:37:12.728792Z",
     "iopub.status.idle": "2024-03-27T10:37:13.273352Z",
     "shell.execute_reply": "2024-03-27T10:37:13.272086Z"
    },
    "papermill": {
     "duration": 0.573414,
     "end_time": "2024-03-27T10:37:13.275567",
     "exception": false,
     "start_time": "2024-03-27T10:37:12.702153",
     "status": "completed"
    },
    "tags": []
   },
   "outputs": [
    {
     "data": {
      "image/png": "[encoded data removed]",
      "text/plain": [
       "<Figure size 400x400 with 1 Axes>"
      ]
     },
     "metadata": {},
     "output_type": "display_data"
    },
    {
     "name": "stdout",
     "output_type": "stream",
     "text": [
      "              precision    recall  f1-score   support\n",
      "\n",
      "       licit     0.9763    0.9942    0.9852     15587\n",
      "     illicit     0.8869    0.6519    0.7515      1083\n",
      "\n",
      "    accuracy                         0.9720     16670\n",
      "   macro avg     0.9316    0.8231    0.8683     16670\n",
      "weighted avg     0.9704    0.9720    0.9700     16670\n",
      "\n"
     ]
    }
   ],
   "source": [
    "model = TGNN(input_dim, output_dim, K1, K2).to(device)\n",
    "\n",
    "model.load_state_dict(torch.load(os.path.join(checkpoints_dir, 'tgnn_model.pth.tar'))['state_dict'])\n",
    "\n",
    "y_test_preds = test(model, data_train)\n",
    "\n",
    "# confusion matrix on validation data\n",
    "conf_mat = confusion_matrix(data_train.y[data_train.val_idx].detach().cpu().numpy(), y_test_preds[valid_idx].cpu())\n",
    "\n",
    "plt.subplots(figsize=(4,4))\n",
    "sns.set(font_scale=1.4)\n",
    "sns.heatmap(conf_mat, annot=True, fmt=\".0f\", annot_kws={\"size\": 16}, cbar=False)\n",
    "plt.xlabel('Target (true) Class'); plt.ylabel('Output (predicted) class'); plt.title('Confusion Matrix')\n",
    "plt.show()\n",
    "\n",
    "print(classification_report(data_train.y[data_train.val_idx].detach().cpu().numpy(),\n",
    "                            y_test_preds[valid_idx].cpu(),\n",
    "                            target_names=['licit', 'illicit'], digits=4))"
   ]
  },
  {
   "attachments": {
    "cf4ae8dc-53cb-49bf-91f3-bce7157f3d56.jpg": {
     "image/jpeg": "[encoded data removed]"
    }
   },
   "cell_type": "markdown",
   "id": "17f13e57",
   "metadata": {
    "papermill": {
     "duration": 0.027505,
     "end_time": "2024-03-27T10:37:13.331869",
     "exception": false,
     "start_time": "2024-03-27T10:37:13.304364",
     "status": "completed"
    },
    "tags": []
   },
   "source": [
    "Для сравнения приложим метрики других моделей, которые были вычислены в статье [1], к которой прилагался датасет\n",
    "![photo_5197683265031494374_x.jpg](attachment:cf4ae8dc-53cb-49bf-91f3-bce7157f3d56.jpg) \n",
    "\n",
    "Таким образом, наш метод уступает, в сущности, только случайному лесу"
   ]
  },
  {
   "cell_type": "markdown",
   "id": "990f4f45",
   "metadata": {
    "papermill": {
     "duration": 0.027472,
     "end_time": "2024-03-27T10:37:13.386802",
     "exception": false,
     "start_time": "2024-03-27T10:37:13.359330",
     "status": "completed"
    },
    "tags": []
   },
   "source": [
    "[[1]: https://arxiv.org/pdf/1908.02591.pdf](https://arxiv.org/pdf/1908.02591.pdf)"
   ]
  }
 ],
 "metadata": {
  "kaggle": {
   "accelerator": "nvidiaTeslaT4",
   "dataSources": [
    {
     "datasetId": 284040,
     "sourceId": 584717,
     "sourceType": "datasetVersion"
    },
    {
     "datasetId": 4679261,
     "sourceId": 7955690,
     "sourceType": "datasetVersion"
    }
   ],
   "dockerImageVersionId": 30664,
   "isGpuEnabled": true,
   "isInternetEnabled": true,
   "language": "python",
   "sourceType": "notebook"
  },
  "kernelspec": {
   "display_name": "Python 3",
   "language": "python",
   "name": "python3"
  },
  "language_info": {
   "codemirror_mode": {
    "name": "ipython",
    "version": 3
   },
   "file_extension": ".py",
   "mimetype": "text/x-python",
   "name": "python",
   "nbconvert_exporter": "python",
   "pygments_lexer": "ipython3",
   "version": "3.10.13"
  },
  "papermill": {
   "default_parameters": {},
   "duration": 289.080775,
   "end_time": "2024-03-27T10:37:16.300591",
   "environment_variables": {},
   "exception": null,
   "input_path": "__notebook__.ipynb",
   "output_path": "__notebook__.ipynb",
   "parameters": {},
   "start_time": "2024-03-27T10:32:27.219816",
   "version": "2.5.0"
  }
 },
 "nbformat": 4,
 "nbformat_minor": 5
}
